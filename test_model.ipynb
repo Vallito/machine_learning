{
 "cells": [
  {
   "cell_type": "code",
   "execution_count": 33,
   "metadata": {},
   "outputs": [
    {
     "data": {
      "text/plain": [
       "array(['Kyle'], dtype=object)"
      ]
     },
     "execution_count": 33,
     "metadata": {},
     "output_type": "execute_result"
    }
   ],
   "source": [
    "from sklearn.feature_extraction.text import CountVectorizer\n",
    "from nltk.corpus import stopwords\n",
    "import nltk\n",
    "from nltk.stem.lancaster import LancasterStemmer\n",
    "from joblib import dump, load\n",
    "\n",
    "\n",
    "rf = load('filename.joblib') \n",
    "st = LancasterStemmer()\n",
    "\n",
    "def token(text):\n",
    "    txt = nltk.word_tokenize(text)\n",
    "    return [st.stem(word) for word in txt]\n",
    "\n",
    "\n",
    "stop = set(stopwords.words(\"english\"))\n",
    "cv =  load('dic.joblib') \n",
    "\n",
    "\n",
    "rf.predict(cv.transform(token(\"\")))"
   ]
  },
  {
   "cell_type": "code",
   "execution_count": null,
   "metadata": {},
   "outputs": [],
   "source": []
  }
 ],
 "metadata": {
  "kernelspec": {
   "display_name": "Python 3",
   "language": "python",
   "name": "python3"
  },
  "language_info": {
   "codemirror_mode": {
    "name": "ipython",
    "version": 3
   },
   "file_extension": ".py",
   "mimetype": "text/x-python",
   "name": "python",
   "nbconvert_exporter": "python",
   "pygments_lexer": "ipython3",
   "version": "3.6.5"
  }
 },
 "nbformat": 4,
 "nbformat_minor": 2
}
